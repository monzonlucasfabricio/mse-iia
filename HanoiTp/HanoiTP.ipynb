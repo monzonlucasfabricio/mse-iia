{
 "cells": [
  {
   "cell_type": "code",
   "execution_count": 1,
   "metadata": {},
   "outputs": [],
   "source": [
    "import sys\n",
    "import os\n",
    "\n",
    "# Añadir la ruta a sys.path\n",
    "sys.path.append(os.path.abspath('../lib/intro_ia/clase2/hanoi_tower'))\n",
    "\n",
    "import aima\n",
    "import hanoi_states\n",
    "import search\n"
   ]
  },
  {
   "cell_type": "markdown",
   "metadata": {},
   "source": [
    "1. PEAS del problema\n",
    "\n",
    "| Agente | Performance | Environment | Actuators | Sensors |\n",
    "|--------|-------------|-------------|-----------|---------|\n",
    "|Torre de Hanoi | Utilizar el menor numero de movimientos posibles| Discos y torres  | Mover discos respetando las reglas del juego| Posición de los discos y estado de las torres|"
   ]
  },
  {
   "cell_type": "markdown",
   "metadata": {},
   "source": [
    "2. Propiedades del Entorno:\n",
    "\n",
    "a. Totalmente observable: Sabemos exactamente todas las posiciones de los discos y el estado de las torres.\n",
    "b. Determinístico: Las acciones tienen resultados predecibles.\n",
    "c. Secuencial: Cada movimiento de un disco afecta el estado del entorno y las opciones disponibles para los movimientos futuros.\n",
    "d. Estático: No hay cambios de estados mientras que el agente no intervenga.\n",
    "e. Discreto: Los estados y acciones son finitos y contables.\n",
    "f. Agente individual: Solo existe un agente realizando acciones en el entorno."
   ]
  },
  {
   "cell_type": "markdown",
   "metadata": {},
   "source": [
    "3.\n",
    "- Estado: Ubicación de los discos en las torres en un momento específico.\n",
    "- Espacio de estados: Cantidad de posiciones posibles para los discos en las torres.\n",
    "- Árbol de búsqueda:\n",
    "- Nodo de búsqueda:\n",
    "- Objetivo : Configuración en la que todo los discos han sido movidos de la torre inicial a la torre objetivo.\n",
    "- Acción: Mover un disco de una torre a otra, siempre y cuando éste no se apoye sobre un disco más chico.\n",
    "- Frontera: Aquella combinación de posiciones que ya fueron tomadas por el agente versus las posiciones que todavia no fueron exploradas."
   ]
  }
 ],
 "metadata": {
  "kernelspec": {
   "display_name": ".venv",
   "language": "python",
   "name": "python3"
  },
  "language_info": {
   "codemirror_mode": {
    "name": "ipython",
    "version": 3
   },
   "file_extension": ".py",
   "mimetype": "text/x-python",
   "name": "python",
   "nbconvert_exporter": "python",
   "pygments_lexer": "ipython3",
   "version": "3.8.8"
  }
 },
 "nbformat": 4,
 "nbformat_minor": 2
}
