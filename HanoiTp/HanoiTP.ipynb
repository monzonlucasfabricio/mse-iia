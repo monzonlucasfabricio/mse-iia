{
 "cells": [
  {
   "cell_type": "markdown",
   "metadata": {},
   "source": [
    "# TP1: Algoritmos de búsqueda en Torre de Hanoi\n",
    "\n",
    "## Autores:\n",
    "- Marcos Dominguez\n",
    "- Lucas Monzón\n",
    "- Felipe Sarche\n"
   ]
  },
  {
   "cell_type": "code",
   "execution_count": null,
   "metadata": {},
   "outputs": [],
   "source": [
    "import sys\n",
    "import os\n",
    "\n",
    "# Añadir la ruta a sys.path\n",
    "sys.path.append(os.path.abspath('../lib/intro_ia/clase2/hanoi_tower'))\n",
    "\n",
    "# import aima\n",
    "# import hanoi_states\n",
    "# import search\n"
   ]
  },
  {
   "cell_type": "markdown",
   "metadata": {},
   "source": [
    "1. PEAS del problema\n",
    "\n",
    "| Agente | Performance | Environment | Actuators | Sensors |\n",
    "|--------|-------------|-------------|-----------|---------|\n",
    "|Torre de Hanoi | Utilizar el menor numero de movimientos posibles| Discos y torres  | Mover discos respetando las reglas del juego| Posición de los discos y estado de las torres|"
   ]
  },
  {
   "cell_type": "markdown",
   "metadata": {},
   "source": [
    "2. Propiedades del Entorno:\n",
    "\n",
    "a. Totalmente observable: Sabemos exactamente todas las posiciones de los discos y el estado de las torres.\n",
    "b. Determinístico: Las acciones tienen resultados predecibles.\n",
    "c. Secuencial: Cada movimiento de un disco afecta el estado del entorno y las opciones disponibles para los movimientos futuros.\n",
    "d. Estático: No hay cambios de estados mientras que el agente no intervenga.\n",
    "e. Discreto: Los estados y acciones son finitos y contables.\n",
    "f. Agente individual: Solo existe un agente realizando acciones en el entorno."
   ]
  },
  {
   "cell_type": "markdown",
   "metadata": {},
   "source": [
    "3.\n",
    "- Estado: Ubicación de los discos en las torres en un momento específico.\n",
    "- Espacio de estados: Cantidad de posiciones posibles para los discos en las torres.\n",
    "- Árbol de búsqueda:\n",
    "- Nodo de búsqueda:\n",
    "- Objetivo : Configuración en la que todo los discos han sido movidos de la torre inicial a la torre objetivo.\n",
    "- Acción: Mover un disco de una torre a otra, siempre y cuando éste no se apoye sobre un disco más chico.\n",
    "- Frontera: Aquella combinación de posiciones que ya fueron tomadas por el agente versus las posiciones que todavia no fueron exploradas."
   ]
  },
  {
   "cell_type": "markdown",
   "metadata": {},
   "source": [
    "4. Implementación método de búsqueda. "
   ]
  },
  {
   "cell_type": "code",
   "execution_count": null,
   "metadata": {},
   "outputs": [],
   "source": [
    "class Node:\n",
    "    def __init__(self, state, parent=None, cost=0, heuristic=0):\n",
    "        self.state = state\n",
    "        self.parent = parent\n",
    "        self.cost = cost\n",
    "        self.heuristic = heuristic\n",
    "\n",
    "    def __lt__(self, other):\n",
    "        return self.heuristic < other.heuristic\n"
   ]
  },
  {
   "cell_type": "code",
   "execution_count": null,
   "metadata": {},
   "outputs": [],
   "source": [
    "def reconstruct_path(node):\n",
    "    path = []\n",
    "    while node:\n",
    "        path.append(node.state)\n",
    "        node = node.parent\n",
    "    return path[::-1]\n"
   ]
  },
  {
   "cell_type": "code",
   "execution_count": null,
   "metadata": {},
   "outputs": [],
   "source": [
    "def heuristic(state):\n",
    "    goal_post = state[2]\n",
    "    return len(goal_post) - sum(1 for i, disk in enumerate(goal_post) if disk == len(goal_post) - i)\n"
   ]
  },
  {
   "cell_type": "code",
   "execution_count": null,
   "metadata": {},
   "outputs": [],
   "source": [
    "def get_neighbors(state):\n",
    "    COST = 1\n",
    "    neighbors = []\n",
    "    for i in range(3):\n",
    "        if state[i]:\n",
    "            disk = state[i][-1]\n",
    "            for j in range(3):\n",
    "                if i != j and (not state[j] or state[j][-1] > disk):\n",
    "                    new_state = [peg[:] for peg in state]\n",
    "                    new_state[i].pop()\n",
    "                    new_state[j].append(disk)\n",
    "                    neighbors.append((new_state, COST))\n",
    "    return neighbors\n"
   ]
  },
  {
   "cell_type": "code",
   "execution_count": null,
   "metadata": {},
   "outputs": [],
   "source": [
    "import heapq\n",
    "\n",
    "def search_function(start_state, goal_state, heuristic_func, get_neighbors, type = \"greedy_best_first\"):\n",
    "    open_list = []\n",
    "    heapq.heappush(open_list, Node(start_state, heuristic=heuristic_func(start_state)))\n",
    "    closed_list = set()\n",
    "    \n",
    "    while open_list:\n",
    "        current_node = heapq.heappop(open_list)\n",
    "        \n",
    "        if current_node.state == goal_state:\n",
    "            return reconstruct_path(current_node)\n",
    "        \n",
    "        closed_list.add(tuple(tuple(peg) for peg in current_node.state))\n",
    "        \n",
    "        for neighbor, cost in get_neighbors(current_node.state):\n",
    "            neighbor_tuple = tuple(tuple(peg) for peg in neighbor)\n",
    "            if neighbor_tuple in closed_list:\n",
    "                continue\n",
    "            \n",
    "            g_cost = current_node.cost + cost\n",
    "            h_cost = heuristic_func(neighbor)\n",
    "            if type == \"greedy_best_first\":\n",
    "                f_cost = h_cost\n",
    "            elif type == \"a_star\":\n",
    "                f_cost = g_cost + h_cost\n",
    "            \n",
    "            neighbor_node = Node(neighbor, current_node, g_cost, f_cost)\n",
    "            heapq.heappush(open_list, neighbor_node)\n",
    "    \n",
    "    return None"
   ]
  },
  {
   "cell_type": "markdown",
   "metadata": {},
   "source": [
    "6. A nivel implementación, ¿qué tiempo y memoria ocupa el algoritmo? "
   ]
  },
  {
   "cell_type": "code",
   "execution_count": null,
   "metadata": {},
   "outputs": [],
   "source": [
    "%%timeit\n",
    "\n",
    "start_state = [[5, 4, 3, 2, 1], [], []]\n",
    "goal_state = [[], [], [5, 4, 3, 2, 1]]\n",
    "\n",
    "path = search_function(start_state, goal_state, heuristic, get_neighbors,\"a_star\")\n"
   ]
  },
  {
   "cell_type": "markdown",
   "metadata": {},
   "source": [
    "| Muestra | Tiempo (ms) |\n",
    "|---------|-------------|\n",
    "| Muestra 1 | 3.26        |\n",
    "| Muestra 2 | 3.31        |\n",
    "| Muestra 3 | 3.30        |\n",
    "| Muestra 4 | 3.33        |\n",
    "| Muestra 5 | 3.27        |\n",
    "| Muestra 6 | 3.30        |\n",
    "| Muestra 7 | 3.29        |\n",
    "| Muestra 8 | 3.32        |\n",
    "| Muestra 9 | 3.26        |\n",
    "| Muestra 10 | 3.27        |\n",
    "| **Promedio:** | **3.29 ms** |\n",
    "| **Desviación Estándar:** | **0.028** |\n",
    "\n",
    "Esta medición de tiempo de ejecución depende del hardware en el cual fue ejecutado\n"
   ]
  },
  {
   "cell_type": "code",
   "execution_count": null,
   "metadata": {},
   "outputs": [],
   "source": [
    "import tracemalloc\n",
    "tracemalloc.start()\n",
    "\n",
    "\n",
    "start_state = [[5, 4, 3, 2, 1], [], []]\n",
    "goal_state = [[], [], [5, 4, 3, 2, 1]]\n",
    "\n",
    "path = search_function(start_state, goal_state, heuristic, get_neighbors, \"a_star\")\n",
    "# for step in path:\n",
    "    # print(step)\n",
    "\n",
    "_, memory_peak = tracemalloc.get_traced_memory()\n",
    "memory_peak /= 1024*1024\n",
    "tracemalloc.stop()\n",
    "\n",
    "print(f\"Maxima memoria ocupada: {round(memory_peak, 2)} [MB]\", )"
   ]
  },
  {
   "cell_type": "markdown",
   "metadata": {},
   "source": [
    "| Muestra   | Tamaño [MB] |\n",
    "|-----------|-------------|\n",
    "| Muestra 1 | 0.12        |\n",
    "| Muestra 2 | 0.11        |\n",
    "| Muestra 3 | 0.12        |\n",
    "| Muestra 4 | 0.11        |\n",
    "| Muestra 5 | 0.11        |\n",
    "| Muestra 6 | 0.11        |\n",
    "| Muestra 7 | 0.11        |\n",
    "| Muestra 8 | 0.11        |\n",
    "| Muestra 9 | 0.11        |\n",
    "| Muestra 10 | 0.11        |\n",
    "| **Promedio:** | **0.113 MB** |\n",
    "| **Desviación Estándar:** | **0.0078 MB** |\n"
   ]
  },
  {
   "cell_type": "code",
   "execution_count": null,
   "metadata": {},
   "outputs": [],
   "source": [
    "import json\n",
    "\n",
    "# Estados de las torres después de cada movimiento\n",
    "states = path\n",
    "\n",
    "# Lista de movimientos\n",
    "movements = []\n",
    "\n",
    "# Función para encontrar el disco movido y las posiciones\n",
    "def find_movement(prev_state, curr_state):\n",
    "    for i in range(3):  # Iterar sobre las tres torres\n",
    "        if prev_state[i] != curr_state[i]:\n",
    "            # Encuentra las torres de inicio y fin\n",
    "            if len(prev_state[i]) < len(curr_state[i]):\n",
    "                peg_end = i\n",
    "            else:\n",
    "                peg_start = i\n",
    "    # Encuentra el disco movido\n",
    "    disk = list(set(prev_state[peg_start]) - set(curr_state[peg_start]))[0]\n",
    "    return {\n",
    "        \"type\": \"movement\",\n",
    "        \"disk\": disk,\n",
    "        \"peg_start\": peg_start + 1,  # Convertir a 1-indexed\n",
    "        \"peg_end\": peg_end + 1       # Convertir a 1-indexed\n",
    "    }\n",
    "\n",
    "# Generar los movimientos\n",
    "for i in range(len(states) - 1):\n",
    "    movement = find_movement(states[i], states[i + 1])\n",
    "    movements.append(movement)\n",
    "\n",
    "# Guardar en un archivo JSON\n",
    "with open('../lib/intro_ia/clase2/hanoi_tower/simulator/sequence.json', 'w') as file:\n",
    "    json.dump(movements, file, indent=4)"
   ]
  },
  {
   "cell_type": "markdown",
   "metadata": {},
   "source": [
    "7. Cantidad de movimientos requeridos por el algoritmo"
   ]
  },
  {
   "cell_type": "code",
   "execution_count": null,
   "metadata": {},
   "outputs": [],
   "source": [
    "mov_done = len(path) - 1\n",
    "print(\"Movimientos : {}\".format(mov_done))\n",
    "\n",
    "mov_expected = 2**5 -1\n",
    "print(\"Movimientos optimos : {}\".format(mov_expected))\n",
    "\n",
    "diff = abs(mov_done - mov_expected)\n",
    "print(\"Diferencia entre el optimo y el implementado : {} ({}%)\".format(diff, round(diff/mov_expected * 100),3))"
   ]
  },
  {
   "cell_type": "code",
   "execution_count": null,
   "metadata": {},
   "outputs": [],
   "source": [
    "import os\n",
    "import sys\n",
    "\n",
    "# Guardar el directorio actual\n",
    "current_dir = os.getcwd()\n",
    "\n",
    "# Cambiar al directorio del script\n",
    "target_dir = os.path.abspath(os.path.join(current_dir, '..', 'lib', 'intro_ia', 'clase2', 'hanoi_tower', 'simulator'))\n",
    "\n",
    "os.chdir(target_dir)\n",
    "\n",
    "# Asegurarse de que el directorio esté en sys.path\n",
    "sys.path.append(target_dir)\n",
    "\n",
    "# Ejecutar el script\n",
    "%run simulation_hanoi.py\n",
    "\n",
    "# Volver al directorio original\n",
    "os.chdir(current_dir)"
   ]
  }
 ],
 "metadata": {
  "language_info": {
   "name": "python"
  }
 },
 "nbformat": 4,
 "nbformat_minor": 2
}
