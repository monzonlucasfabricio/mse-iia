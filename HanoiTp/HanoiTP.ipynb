{
 "cells": [
  {
   "cell_type": "code",
   "execution_count": 73,
   "metadata": {},
   "outputs": [],
   "source": [
    "import sys\n",
    "import os\n",
    "\n",
    "# Añadir la ruta a sys.path\n",
    "sys.path.append(os.path.abspath('../lib/intro_ia/clase2/hanoi_tower'))\n",
    "\n",
    "import aima\n",
    "import hanoi_states\n",
    "import search\n"
   ]
  },
  {
   "cell_type": "markdown",
   "metadata": {},
   "source": [
    "1. PEAS del problema\n",
    "\n",
    "| Agente | Performance | Environment | Actuators | Sensors |\n",
    "|--------|-------------|-------------|-----------|---------|\n",
    "|Torre de Hanoi | Utilizar el menor numero de movimientos posibles| Discos y torres  | Mover discos respetando las reglas del juego| Posición de los discos y estado de las torres|"
   ]
  },
  {
   "cell_type": "markdown",
   "metadata": {},
   "source": [
    "2. Propiedades del Entorno:\n",
    "\n",
    "a. Totalmente observable: Sabemos exactamente todas las posiciones de los discos y el estado de las torres.\n",
    "b. Determinístico: Las acciones tienen resultados predecibles.\n",
    "c. Secuencial: Cada movimiento de un disco afecta el estado del entorno y las opciones disponibles para los movimientos futuros.\n",
    "d. Estático: No hay cambios de estados mientras que el agente no intervenga.\n",
    "e. Discreto: Los estados y acciones son finitos y contables.\n",
    "f. Agente individual: Solo existe un agente realizando acciones en el entorno."
   ]
  },
  {
   "cell_type": "markdown",
   "metadata": {},
   "source": [
    "3.\n",
    "- Estado: Ubicación de los discos en las torres en un momento específico.\n",
    "- Espacio de estados: Cantidad de posiciones posibles para los discos en las torres.\n",
    "- Árbol de búsqueda:\n",
    "- Nodo de búsqueda:\n",
    "- Objetivo : Configuración en la que todo los discos han sido movidos de la torre inicial a la torre objetivo.\n",
    "- Acción: Mover un disco de una torre a otra, siempre y cuando éste no se apoye sobre un disco más chico.\n",
    "- Frontera: Aquella combinación de posiciones que ya fueron tomadas por el agente versus las posiciones que todavia no fueron exploradas."
   ]
  },
  {
   "cell_type": "code",
   "execution_count": 74,
   "metadata": {},
   "outputs": [],
   "source": [
    "class Node:\n",
    "    def __init__(self, state, parent=None, cost=0, heuristic=0):\n",
    "        self.state = state\n",
    "        self.parent = parent\n",
    "        self.cost = cost\n",
    "        self.heuristic = heuristic\n",
    "\n",
    "    def __lt__(self, other):\n",
    "        return self.heuristic < other.heuristic\n"
   ]
  },
  {
   "cell_type": "code",
   "execution_count": 75,
   "metadata": {},
   "outputs": [],
   "source": [
    "def reconstruct_path(node):\n",
    "    path = []\n",
    "    while node:\n",
    "        path.append(node.state)\n",
    "        node = node.parent\n",
    "    return path[::-1]\n"
   ]
  },
  {
   "cell_type": "code",
   "execution_count": 76,
   "metadata": {},
   "outputs": [],
   "source": [
    "def heuristic(state):\n",
    "    goal_post = state[2]\n",
    "    return len(goal_post) - sum(1 for i, disk in enumerate(goal_post) if disk == len(goal_post) - i)\n"
   ]
  },
  {
   "cell_type": "code",
   "execution_count": 77,
   "metadata": {},
   "outputs": [],
   "source": [
    "def get_neighbors(state):\n",
    "    neighbors = []\n",
    "    for i in range(3):\n",
    "        if state[i]:\n",
    "            disk = state[i][-1]\n",
    "            for j in range(3):\n",
    "                if i != j and (not state[j] or state[j][-1] > disk):\n",
    "                    new_state = [peg[:] for peg in state]\n",
    "                    new_state[i].pop()\n",
    "                    new_state[j].append(disk)\n",
    "                    neighbors.append((new_state, 1))\n",
    "    return neighbors\n"
   ]
  },
  {
   "cell_type": "code",
   "execution_count": 78,
   "metadata": {},
   "outputs": [],
   "source": [
    "import heapq\n",
    "\n",
    "def greedy_best_first_search(start_state, goal_state, heuristic_func, get_neighbors):\n",
    "    open_list = []\n",
    "    heapq.heappush(open_list, Node(start_state, heuristic=heuristic_func(start_state)))\n",
    "    closed_list = set()\n",
    "    \n",
    "    while open_list:\n",
    "        current_node = heapq.heappop(open_list)\n",
    "        \n",
    "        if current_node.state == goal_state:\n",
    "            return reconstruct_path(current_node)\n",
    "        \n",
    "        closed_list.add(tuple(tuple(peg) for peg in current_node.state))\n",
    "        \n",
    "        for neighbor, cost in get_neighbors(current_node.state):\n",
    "            neighbor_tuple = tuple(tuple(peg) for peg in neighbor)\n",
    "            if neighbor_tuple in closed_list:\n",
    "                continue\n",
    "            \n",
    "            neighbor_node = Node(neighbor, current_node, current_node.cost + cost, heuristic_func(neighbor))\n",
    "            heapq.heappush(open_list, neighbor_node)\n",
    "    \n",
    "    return None\n",
    "\n",
    "search_function = greedy_best_first_search\n"
   ]
  },
  {
   "cell_type": "code",
   "execution_count": 79,
   "metadata": {},
   "outputs": [],
   "source": [
    "import heapq\n",
    "\n",
    "def a_star_search(start_state, goal_state, heuristic_func, get_neighbors):\n",
    "    open_list = []\n",
    "    heapq.heappush(open_list, Node(start_state, heuristic=heuristic_func(start_state)))\n",
    "    closed_list = set()\n",
    "    \n",
    "    while open_list:\n",
    "        current_node = heapq.heappop(open_list)\n",
    "        \n",
    "        if current_node.state == goal_state:\n",
    "            return reconstruct_path(current_node)\n",
    "        \n",
    "        closed_list.add(tuple(tuple(peg) for peg in current_node.state))\n",
    "        \n",
    "        for neighbor, cost in get_neighbors(current_node.state):\n",
    "            neighbor_tuple = tuple(tuple(peg) for peg in neighbor)\n",
    "            if neighbor_tuple in closed_list:\n",
    "                continue\n",
    "            \n",
    "            g_cost = current_node.cost + cost\n",
    "            h_cost = heuristic_func(neighbor)\n",
    "            f_cost = g_cost + h_cost\n",
    "            \n",
    "            neighbor_node = Node(neighbor, current_node, g_cost, f_cost)\n",
    "            heapq.heappush(open_list, neighbor_node)\n",
    "    \n",
    "    return None\n",
    "\n",
    "search_function = a_star_search"
   ]
  },
  {
   "cell_type": "code",
   "execution_count": 80,
   "metadata": {},
   "outputs": [
    {
     "name": "stdout",
     "output_type": "stream",
     "text": [
      "[[[5, 4, 3, 2, 1], [], []], [[5, 4, 3, 2], [], [1]], [[5, 4, 3], [2], [1]], [[5, 4, 3], [2, 1], []], [[5, 4], [2, 1], [3]], [[5, 4, 1], [2], [3]], [[5, 4, 1], [], [3, 2]], [[5, 4], [], [3, 2, 1]], [[5], [4], [3, 2, 1]], [[5], [4, 1], [3, 2]], [[5, 2], [4, 1], [3]], [[5, 2, 1], [4], [3]], [[5, 2, 1], [4, 3], []], [[5, 2], [4, 3], [1]], [[5], [4, 3, 2], [1]], [[5], [4, 3, 2, 1], []], [[], [4, 3, 2, 1], [5]], [[1], [4, 3, 2], [5]], [[1], [4, 3], [5, 2]], [[], [4, 3], [5, 2, 1]], [[3], [4], [5, 2, 1]], [[3], [4, 1], [5, 2]], [[3, 2], [4, 1], [5]], [[3, 2, 1], [4], [5]], [[3, 2, 1], [], [5, 4]], [[3, 2], [], [5, 4, 1]], [[3], [2], [5, 4, 1]], [[3], [2, 1], [5, 4]], [[], [2, 1], [5, 4, 3]], [[1], [2], [5, 4, 3]], [[1], [], [5, 4, 3, 2]], [[], [], [5, 4, 3, 2, 1]]]\n"
     ]
    }
   ],
   "source": [
    "start_state = [[5, 4, 3, 2, 1], [], []]\n",
    "goal_state = [[], [], [5, 4, 3, 2, 1]]\n",
    "\n",
    "path = search_function(start_state, goal_state, heuristic, get_neighbors)\n",
    "# for step in path:\n",
    "    # print(step)\n",
    "\n",
    "print(path)"
   ]
  },
  {
   "cell_type": "code",
   "execution_count": 81,
   "metadata": {},
   "outputs": [],
   "source": [
    "import json\n",
    "\n",
    "# Estados de las torres después de cada movimiento\n",
    "states = path\n",
    "\n",
    "# Lista de movimientos\n",
    "movements = []\n",
    "\n",
    "# Función para encontrar el disco movido y las posiciones\n",
    "def find_movement(prev_state, curr_state):\n",
    "    for i in range(3):  # Iterar sobre las tres torres\n",
    "        if prev_state[i] != curr_state[i]:\n",
    "            # Encuentra las torres de inicio y fin\n",
    "            if len(prev_state[i]) < len(curr_state[i]):\n",
    "                peg_end = i\n",
    "            else:\n",
    "                peg_start = i\n",
    "    # Encuentra el disco movido\n",
    "    disk = list(set(prev_state[peg_start]) - set(curr_state[peg_start]))[0]\n",
    "    return {\n",
    "        \"type\": \"movement\",\n",
    "        \"disk\": disk,\n",
    "        \"peg_start\": peg_start + 1,  # Convertir a 1-indexed\n",
    "        \"peg_end\": peg_end + 1       # Convertir a 1-indexed\n",
    "    }\n",
    "\n",
    "# Generar los movimientos\n",
    "for i in range(len(states) - 1):\n",
    "    movement = find_movement(states[i], states[i + 1])\n",
    "    movements.append(movement)\n",
    "\n",
    "# Guardar en un archivo JSON\n",
    "with open('../lib/intro_ia/clase2/hanoi_tower/simulator/sequence.json', 'w') as file:\n",
    "    json.dump(movements, file, indent=4)"
   ]
  }
 ],
 "metadata": {
  "kernelspec": {
   "display_name": ".venv",
   "language": "python",
   "name": "python3"
  },
  "language_info": {
   "codemirror_mode": {
    "name": "ipython",
    "version": 3
   },
   "file_extension": ".py",
   "mimetype": "text/x-python",
   "name": "python",
   "nbconvert_exporter": "python",
   "pygments_lexer": "ipython3",
   "version": "3.8.8"
  }
 },
 "nbformat": 4,
 "nbformat_minor": 2
}
